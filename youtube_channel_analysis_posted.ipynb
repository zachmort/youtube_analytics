{
 "cells": [
  {
   "cell_type": "markdown",
   "metadata": {},
   "source": [
    "## Importing Packages"
   ]
  },
  {
   "cell_type": "code",
   "execution_count": 1,
   "metadata": {},
   "outputs": [],
   "source": [
    "import sys\n",
    "import numpy as np\n",
    "import pandas as pd\n",
    "from matplotlib import pyplot as plt\n",
    "import seaborn as sns; sns.set_theme(color_codes=True)\n",
    "from datetime import timedelta\n",
    "from tqdm import tqdm\n",
    "import pprint\n",
    "import re\n",
    "import time\n",
    "from datetime import date,datetime\n",
    "from dateutil import parser\n",
    "from googleapiclient.discovery import build\n",
    "\n",
    "# Installing Required Packages #\n",
    "# !{sys.executable} -m pip install tqdm\n",
    "# !{sys.executable} -m pip install datetime\n",
    "# !{sys.executable} -m pip install seaborn\n",
    "# !{sys.executable} -m pip install matplotlib\n",
    "# !{sys.executable} -m pip install pandas\n",
    "# !{sys.executable} -m pip install numpy\n",
    "#!{sys.executable} -m pip install google-api-python-client\n",
    "\n",
    "\n",
    "mydevkey = 'XXXXXXXXXXXXXXXXXX'\n",
    "\n",
    "#links for Yourube build documentation\n",
    "#https://googleapis.github.io/google-api-python-client/docs/dyn/youtube_v3.html\n",
    "#https://github.com/googleapis/google-api-python-client/blob/main/docs/start.md"
   ]
  },
  {
   "cell_type": "markdown",
   "metadata": {},
   "source": [
    "## Creating build() method and setting variable name"
   ]
  },
  {
   "cell_type": "code",
   "execution_count": 2,
   "metadata": {},
   "outputs": [],
   "source": [
    "#Importing youtube module and setting build var with parameters \n",
    "#Use the build() function to create a service object. It takes an API name, API version and Dev Key as arguments. \n",
    "\n",
    "youtube = build('youtube', 'v3', developerKey =mydevkey)"
   ]
  },
  {
   "cell_type": "markdown",
   "metadata": {},
   "source": [
    "## Retrieving Youtube channel ID"
   ]
  },
  {
   "cell_type": "code",
   "execution_count": 3,
   "metadata": {},
   "outputs": [],
   "source": [
    "# Use this url below to find the channel id for the repective channel you want to analyze \n",
    "# https://commentpicker.com/youtube-channel-id.php"
   ]
  },
  {
   "cell_type": "markdown",
   "metadata": {},
   "source": [
    "## Retrieving Overall Channel Data\n",
    "\n",
    "##### Provides channel information using channels() method"
   ]
  },
  {
   "cell_type": "code",
   "execution_count": 4,
   "metadata": {},
   "outputs": [],
   "source": [
    "#In this instance I am using the channel 'LCK Global' with channel ID: UCKVlixycWmapnGQ_wht4cHQ\n",
    "\n",
    "#using this block to get the content details of LCK Global using the channels() method \n",
    "channel_ID_request = youtube.channels().list(\n",
    "                part = 'contentDetails',             # This is for the type of info to be printed on the channel\n",
    "                id = 'UCKVlixycWmapnGQ_wht4cHQ'      # This is for the channel Id\n",
    ")\n",
    "\n",
    "#Executing the above request to the api\n",
    "channel_ID_response = channel_ID_request.execute()"
   ]
  },
  {
   "cell_type": "code",
   "execution_count": 5,
   "metadata": {},
   "outputs": [
    {
     "data": {
      "text/plain": [
       "{'kind': 'youtube#channelListResponse',\n",
       " 'etag': 'JfjQPp4JVCWVD5s09YOp48Ou1Vk',\n",
       " 'pageInfo': {'totalResults': 1, 'resultsPerPage': 5},\n",
       " 'items': [{'kind': 'youtube#channel',\n",
       "   'etag': 'Ma2Q8qlmvsMTXRqxrqPOboFALkc',\n",
       "   'id': 'UCKVlixycWmapnGQ_wht4cHQ',\n",
       "   'contentDetails': {'relatedPlaylists': {'likes': '',\n",
       "     'uploads': 'UUKVlixycWmapnGQ_wht4cHQ'}}}]}"
      ]
     },
     "execution_count": 5,
     "metadata": {},
     "output_type": "execute_result"
    }
   ],
   "source": [
    "#Printing out results from API channel request\n",
    "channel_ID_response"
   ]
  },
  {
   "cell_type": "markdown",
   "metadata": {},
   "source": [
    "## Calling the Playlist() Method\n",
    "##### This Method allows a user to get all of the playlist IDs from a channel"
   ]
  },
  {
   "cell_type": "code",
   "execution_count": 6,
   "metadata": {},
   "outputs": [],
   "source": [
    "\n",
    "nextPageToken = None                                        # Creating a variable to grab the nextpagetoken in order to pass through all pages of results\n",
    "playlistinfo = []                                            # Creating a list for the playlist info output\n",
    "\n",
    "while True: \n",
    "\n",
    "    playlist_from_channel_request = youtube.playlists().list(\n",
    "                    part = 'contentDetails',\n",
    "                    channelId = 'UCKVlixycWmapnGQ_wht4cHQ', # This is the id/channel id 'UCKVlixycWmapnGQ_wht4cHQ' for LCK Global\n",
    "                    pageToken = nextPageToken,              # This parameter is required to get all results back since youtube api limits 50 results to each page\n",
    "                    maxResults = 50                         # Max Results parameter takes an INT as an arguement and prints out the given number of results per page for the API Request\n",
    "    )\n",
    "\n",
    "    playlist_response = playlist_from_channel_request.execute()         #Executes request\n",
    "\n",
    "    nextPageToken = playlist_response.get('nextPageToken')  # This grabs the nextPageToken from the playlist_response and uses it as the pageToken variable to grab the next page of results \n",
    "\n",
    "    for i in playlist_response['items']:\n",
    "        playlistinfo.append(i)\n",
    "\n",
    "    if not nextPageToken:                                   # This line breaks out of the while loop once there is no more nextpagetokens provided (ie we have hit the last page of results)\n",
    "        break"
   ]
  },
  {
   "cell_type": "code",
   "execution_count": 7,
   "metadata": {},
   "outputs": [
    {
     "data": {
      "text/plain": [
       "78"
      ]
     },
     "execution_count": 7,
     "metadata": {},
     "output_type": "execute_result"
    }
   ],
   "source": [
    "#Confirming we have all 78 playlistIDs\n",
    "\n",
    "len(playlistinfo)"
   ]
  },
  {
   "cell_type": "code",
   "execution_count": 8,
   "metadata": {},
   "outputs": [
    {
     "name": "stdout",
     "output_type": "stream",
     "text": [
      "78\n"
     ]
    }
   ],
   "source": [
    "playlistIDs = []       #Creating list to store all of the playlist ids to use later\n",
    "\n",
    "for i in playlistinfo:              #Looping through the ouput from the last API call tog et only the playlist Ids\n",
    "    # print(i['id'])\n",
    "    playlistIDs.append(i['id'])\n",
    "\n",
    "print(len(playlistIDs))         #Checking output"
   ]
  },
  {
   "cell_type": "markdown",
   "metadata": {},
   "source": [
    "## Using playlistitems() method\n",
    "#### This allows a user to retrieve all of the videoIDs from each respective playlist from playlistIDs variable"
   ]
  },
  {
   "cell_type": "code",
   "execution_count": 9,
   "metadata": {},
   "outputs": [],
   "source": [
    "nextPageToken_videos = None                                 # Creating a variable to store the nextpage key\n",
    "videoInfo = []                                              # List for storing video info\n",
    "videoIDs = []                                               # List for storing Video Ids\n",
    "\n",
    "for i in playlistIDs:\n",
    "    videos_from_each_playlist_request = youtube.playlistItems().list(\n",
    "                    part = 'contentDetails',\n",
    "                    playlistId = i,                         # This is the id/channel id 'UCKVlixycWmapnGQ_wht4cHQ' for LCK Global\n",
    "                    pageToken = nextPageToken_videos,       # This parameter is required to get all results back since youtube api limits 50 results to each page\n",
    "                    maxResults = 50                         # Max Results parameter takes an INT as an arguement and prints out the given number of results per page for the API Request\n",
    "    )\n",
    "\n",
    "    videos_from_each_playlist_response = videos_from_each_playlist_request.execute()\n",
    "\n",
    "    for i in videos_from_each_playlist_response['items']:   # Storing the video info before going to the \"next page of results\"\n",
    "            videoIDs.append(i['contentDetails']['videoId']) # Grabbing only the video ids\n",
    "\n",
    "    nextPageToken_videos = videos_from_each_playlist_response.get('nextPageToken')  # This grabs the nextPageToken from the playlist_response and uses it as the pageToken variable to grab the next page of results "
   ]
  },
  {
   "cell_type": "code",
   "execution_count": 10,
   "metadata": {},
   "outputs": [
    {
     "data": {
      "text/plain": [
       "1762"
      ]
     },
     "execution_count": 10,
     "metadata": {},
     "output_type": "execute_result"
    }
   ],
   "source": [
    "len(videoIDs)"
   ]
  },
  {
   "cell_type": "code",
   "execution_count": 11,
   "metadata": {},
   "outputs": [
    {
     "data": {
      "text/plain": [
       "['SK3lQgIuasA', 'byzyb9GFQWE', '1Dk1nxxSlLM', 'Ia27hpiPKqw', 'f-SE_Fw62iA']"
      ]
     },
     "execution_count": 11,
     "metadata": {},
     "output_type": "execute_result"
    }
   ],
   "source": [
    "#checking output looks ok\n",
    "videoIDs[0:5]"
   ]
  },
  {
   "cell_type": "code",
   "execution_count": 12,
   "metadata": {},
   "outputs": [],
   "source": [
    "# Youtube requires a certain format of each video: The format is seperated by a comma but as one long string rather than individual strings \n",
    "# Example: 'yh5OXkuZwUE,l2gjnge2ICw,9EsFExeZKAQ,uPexvgL67ps'   .........\n",
    "\n",
    "#Formatting the videos list to the required format\n",
    "videoIDs_formatted = ','.join(videoIDs)"
   ]
  },
  {
   "cell_type": "markdown",
   "metadata": {},
   "source": [
    "## Using the Videos() Method\n",
    "#### This gives all of the information for each video from the videoIDs list"
   ]
  },
  {
   "cell_type": "markdown",
   "metadata": {},
   "source": [
    "#### Youtube limits the amount of requests you can make within a short period of time\n",
    "#### In order to get around this, the code below breaks up the list of ~1700 video IDs into smaller lists of 50 video IDs per sub list "
   ]
  },
  {
   "cell_type": "code",
   "execution_count": 13,
   "metadata": {},
   "outputs": [],
   "source": [
    "#Creating a copy of the VideoIds list\n",
    "data = videoIDs\n",
    "\n",
    "#This function takes in a list (lst) and the length that the user wants the smaller lists to be (n) \n",
    "def chunks(lst: list, n: int) -> list:\n",
    "    \"\"\"Yield successive n-sized chunks from lst.\"\"\"\n",
    "    for i in range(0, len(lst), n):\n",
    "        yield lst[i:i + n]"
   ]
  },
  {
   "cell_type": "code",
   "execution_count": 14,
   "metadata": {},
   "outputs": [
    {
     "name": "stdout",
     "output_type": "stream",
     "text": [
      "<generator object chunks at 0x0000022D54C35820>\n"
     ]
    }
   ],
   "source": [
    "#checking output\n",
    "pprint.pprint((chunks(data, 50)))"
   ]
  },
  {
   "cell_type": "code",
   "execution_count": 15,
   "metadata": {},
   "outputs": [],
   "source": [
    "videoIDs_list_of_lists = (list(chunks(data, 50)))"
   ]
  },
  {
   "cell_type": "code",
   "execution_count": 16,
   "metadata": {},
   "outputs": [
    {
     "data": {
      "text/plain": [
       "36"
      ]
     },
     "execution_count": 16,
     "metadata": {},
     "output_type": "execute_result"
    }
   ],
   "source": [
    "len(videoIDs_list_of_lists)"
   ]
  },
  {
   "cell_type": "code",
   "execution_count": 17,
   "metadata": {},
   "outputs": [
    {
     "name": "stderr",
     "output_type": "stream",
     "text": [
      "100%|██████████| 36/36 [03:15<00:00,  5.42s/it]\n"
     ]
    }
   ],
   "source": [
    "\n",
    "infoforvids = []                                                             # List for videoinfo from videos() method\n",
    "\n",
    "for i in tqdm(videoIDs_list_of_lists):                                       # tqdm provides a progress bar for for loops\n",
    "        videoIDs_information_request = youtube.videos().list(                # Using videos() method to get info on each respective video id that is passed through\n",
    "                part = \"contentDetails,snippet,statistics\",                  # Using multiple arguements for part param to get different types of info for the videos\n",
    "                maxResults = 50,\n",
    "                id = i)\n",
    "\n",
    "        videoIDs_information_response = videoIDs_information_request.execute()\n",
    "\n",
    "        infoforvids.append(videoIDs_information_response)\n",
    "\n",
    "        time.sleep(5)                                                        # must set a delayed time for passing in each list of 50 video ids\n",
    "                                                                             # Youtube does not allow more than 50 requests at once \n",
    "\n",
    "        "
   ]
  },
  {
   "cell_type": "code",
   "execution_count": 18,
   "metadata": {},
   "outputs": [
    {
     "data": {
      "text/plain": [
       "36"
      ]
     },
     "execution_count": 18,
     "metadata": {},
     "output_type": "execute_result"
    }
   ],
   "source": [
    "len(infoforvids)"
   ]
  },
  {
   "cell_type": "code",
   "execution_count": 19,
   "metadata": {},
   "outputs": [
    {
     "data": {
      "text/plain": [
       "'One & Only | Finals D-Day | Worlds 2022'"
      ]
     },
     "execution_count": 19,
     "metadata": {},
     "output_type": "execute_result"
    }
   ],
   "source": [
    "infoforvids[0]['items'][0]['snippet']['title']"
   ]
  },
  {
   "cell_type": "markdown",
   "metadata": {},
   "source": [
    "### Preparing to create dataframe"
   ]
  },
  {
   "cell_type": "markdown",
   "metadata": {},
   "source": [
    "#### Parsing time to get video length"
   ]
  },
  {
   "cell_type": "code",
   "execution_count": 20,
   "metadata": {},
   "outputs": [],
   "source": [
    "# Using regex to parse hours/minutes/seconds of video length\n",
    "minutes_expression = re.compile(r'(\\d+)M')\n",
    "hours_expression = re.compile(r'(\\d+)H')\n",
    "seconds_expression = re.compile(r'(\\d+)S')"
   ]
  },
  {
   "cell_type": "markdown",
   "metadata": {},
   "source": [
    "#### Getting information for each video pulled form the infoforvideos list"
   ]
  },
  {
   "cell_type": "code",
   "execution_count": 21,
   "metadata": {},
   "outputs": [],
   "source": [
    "duration_time = []\n",
    "dur = []\n",
    "video_names = []\n",
    "views = []\n",
    "likes = []\n",
    "commentscount = []\n",
    "published_date = []\n",
    "\n",
    "\n",
    "for i in infoforvids:\n",
    "    for j in (i['items']):\n",
    "        #duration_time.append(j['contentDetails']['duration'])\n",
    "        video_names.append(j['snippet']['title'])\n",
    "        views.append(j['statistics']['viewCount'])\n",
    "        likes.append(j['statistics']['likeCount'])\n",
    "        commentscount.append(j['statistics']['commentCount'])\n",
    "        published_date.append(j['snippet']['publishedAt'])\n",
    "\n",
    "        dur = (j['contentDetails']['duration'])\n",
    "        hours = hours_expression.search(dur)\n",
    "        minutes = minutes_expression.search(dur)\n",
    "        sec = seconds_expression.search(dur)\n",
    "        hours = int(hours.group(1)) if hours else 0\n",
    "        minutes = int(minutes.group(1)) if minutes else 0\n",
    "        sec = int(sec.group(1)) if sec else 0\n",
    "\n",
    "        time_in_seconds = timedelta(\n",
    "            hours = hours,\n",
    "            minutes = minutes,\n",
    "            seconds = sec\n",
    "        ).total_seconds()\n",
    "\n",
    "        duration_time.append(time_in_seconds)"
   ]
  },
  {
   "cell_type": "code",
   "execution_count": 22,
   "metadata": {},
   "outputs": [
    {
     "data": {
      "text/plain": [
       "[34.0, 132.0, 120.0, 696.0, 200.0]"
      ]
     },
     "execution_count": 22,
     "metadata": {},
     "output_type": "execute_result"
    }
   ],
   "source": [
    "duration_time[0:5]"
   ]
  },
  {
   "cell_type": "code",
   "execution_count": 23,
   "metadata": {},
   "outputs": [
    {
     "data": {
      "text/plain": [
       "1748"
      ]
     },
     "execution_count": 23,
     "metadata": {},
     "output_type": "execute_result"
    }
   ],
   "source": [
    "#Checking len of video_names list\n",
    "len(video_names)"
   ]
  },
  {
   "cell_type": "markdown",
   "metadata": {},
   "source": [
    "## Creating a data frame for all of the video information"
   ]
  },
  {
   "cell_type": "code",
   "execution_count": 24,
   "metadata": {},
   "outputs": [],
   "source": [
    "frame = {'Published_Date': published_date, \n",
    "        'Video_Name': video_names, \n",
    "        'Duration_Seconds': duration_time , \n",
    "        'Views' :views, \n",
    "        'Likes' : likes, \n",
    "        'Comment_count':commentscount}\n",
    "        \n",
    "df = pd.DataFrame(frame)"
   ]
  },
  {
   "cell_type": "code",
   "execution_count": 25,
   "metadata": {},
   "outputs": [
    {
     "data": {
      "text/html": [
       "<div>\n",
       "<style scoped>\n",
       "    .dataframe tbody tr th:only-of-type {\n",
       "        vertical-align: middle;\n",
       "    }\n",
       "\n",
       "    .dataframe tbody tr th {\n",
       "        vertical-align: top;\n",
       "    }\n",
       "\n",
       "    .dataframe thead th {\n",
       "        text-align: right;\n",
       "    }\n",
       "</style>\n",
       "<table border=\"1\" class=\"dataframe\">\n",
       "  <thead>\n",
       "    <tr style=\"text-align: right;\">\n",
       "      <th></th>\n",
       "      <th>Published_Date</th>\n",
       "      <th>Video_Name</th>\n",
       "      <th>Duration_Seconds</th>\n",
       "      <th>Views</th>\n",
       "      <th>Likes</th>\n",
       "      <th>Comment_count</th>\n",
       "    </tr>\n",
       "  </thead>\n",
       "  <tbody>\n",
       "    <tr>\n",
       "      <th>0</th>\n",
       "      <td>2022-11-05T15:00:20Z</td>\n",
       "      <td>One &amp; Only | Finals D-Day | Worlds 2022</td>\n",
       "      <td>34.0</td>\n",
       "      <td>47155</td>\n",
       "      <td>1216</td>\n",
       "      <td>110</td>\n",
       "    </tr>\n",
       "    <tr>\n",
       "      <th>1</th>\n",
       "      <td>2022-11-04T15:00:33Z</td>\n",
       "      <td>FAKER and DEFT | Finals D-1 | Worlds 2022</td>\n",
       "      <td>132.0</td>\n",
       "      <td>117182</td>\n",
       "      <td>2834</td>\n",
       "      <td>229</td>\n",
       "    </tr>\n",
       "    <tr>\n",
       "      <th>2</th>\n",
       "      <td>2022-11-03T15:00:01Z</td>\n",
       "      <td>The LCK’s new golden age | Finals D-2 | Worlds...</td>\n",
       "      <td>120.0</td>\n",
       "      <td>18343</td>\n",
       "      <td>478</td>\n",
       "      <td>94</td>\n",
       "    </tr>\n",
       "    <tr>\n",
       "      <th>3</th>\n",
       "      <td>2022-10-28T15:00:11Z</td>\n",
       "      <td>The One &amp; Only Chovy</td>\n",
       "      <td>696.0</td>\n",
       "      <td>244902</td>\n",
       "      <td>5383</td>\n",
       "      <td>849</td>\n",
       "    </tr>\n",
       "    <tr>\n",
       "      <th>4</th>\n",
       "      <td>2022-10-12T13:00:34Z</td>\n",
       "      <td>GEN Airport Interview | Worlds 2022</td>\n",
       "      <td>200.0</td>\n",
       "      <td>4395</td>\n",
       "      <td>135</td>\n",
       "      <td>14</td>\n",
       "    </tr>\n",
       "  </tbody>\n",
       "</table>\n",
       "</div>"
      ],
      "text/plain": [
       "         Published_Date                                         Video_Name  \\\n",
       "0  2022-11-05T15:00:20Z            One & Only | Finals D-Day | Worlds 2022   \n",
       "1  2022-11-04T15:00:33Z          FAKER and DEFT | Finals D-1 | Worlds 2022   \n",
       "2  2022-11-03T15:00:01Z  The LCK’s new golden age | Finals D-2 | Worlds...   \n",
       "3  2022-10-28T15:00:11Z                               The One & Only Chovy   \n",
       "4  2022-10-12T13:00:34Z                GEN Airport Interview | Worlds 2022   \n",
       "\n",
       "   Duration_Seconds   Views Likes Comment_count  \n",
       "0              34.0   47155  1216           110  \n",
       "1             132.0  117182  2834           229  \n",
       "2             120.0   18343   478            94  \n",
       "3             696.0  244902  5383           849  \n",
       "4             200.0    4395   135            14  "
      ]
     },
     "execution_count": 25,
     "metadata": {},
     "output_type": "execute_result"
    }
   ],
   "source": [
    "df.head(5)"
   ]
  },
  {
   "cell_type": "markdown",
   "metadata": {},
   "source": [
    "## Data Cleaning"
   ]
  },
  {
   "cell_type": "code",
   "execution_count": 26,
   "metadata": {},
   "outputs": [],
   "source": [
    "Published_Time = pd.to_datetime(df.Published_Date).dt.time\n",
    "df.insert(1, 'Published_Time', Published_Time)\n",
    "df['Published_Date'] = pd.to_datetime(df.Published_Date).dt.date"
   ]
  },
  {
   "cell_type": "code",
   "execution_count": 27,
   "metadata": {},
   "outputs": [
    {
     "name": "stdout",
     "output_type": "stream",
     "text": [
      "<class 'pandas.core.frame.DataFrame'>\n",
      "RangeIndex: 1748 entries, 0 to 1747\n",
      "Data columns (total 7 columns):\n",
      " #   Column            Non-Null Count  Dtype  \n",
      "---  ------            --------------  -----  \n",
      " 0   Published_Date    1748 non-null   object \n",
      " 1   Published_Time    1748 non-null   object \n",
      " 2   Video_Name        1748 non-null   object \n",
      " 3   Duration_Seconds  1748 non-null   float64\n",
      " 4   Views             1748 non-null   object \n",
      " 5   Likes             1748 non-null   object \n",
      " 6   Comment_count     1748 non-null   object \n",
      "dtypes: float64(1), object(6)\n",
      "memory usage: 95.7+ KB\n"
     ]
    }
   ],
   "source": [
    "df.info()"
   ]
  },
  {
   "cell_type": "markdown",
   "metadata": {},
   "source": [
    "#### Transforming Variables"
   ]
  },
  {
   "cell_type": "code",
   "execution_count": 28,
   "metadata": {},
   "outputs": [],
   "source": [
    "df[['Views', 'Likes', 'Comment_count']] = df[['Views', 'Likes', 'Comment_count']].astype(int)\n",
    "df['Published_Date'] = pd.to_datetime(df.Published_Date)"
   ]
  },
  {
   "cell_type": "code",
   "execution_count": 29,
   "metadata": {},
   "outputs": [
    {
     "name": "stdout",
     "output_type": "stream",
     "text": [
      "<class 'pandas.core.frame.DataFrame'>\n",
      "RangeIndex: 1748 entries, 0 to 1747\n",
      "Data columns (total 7 columns):\n",
      " #   Column            Non-Null Count  Dtype         \n",
      "---  ------            --------------  -----         \n",
      " 0   Published_Date    1748 non-null   datetime64[ns]\n",
      " 1   Published_Time    1748 non-null   object        \n",
      " 2   Video_Name        1748 non-null   object        \n",
      " 3   Duration_Seconds  1748 non-null   float64       \n",
      " 4   Views             1748 non-null   int32         \n",
      " 5   Likes             1748 non-null   int32         \n",
      " 6   Comment_count     1748 non-null   int32         \n",
      "dtypes: datetime64[ns](1), float64(1), int32(3), object(2)\n",
      "memory usage: 75.2+ KB\n"
     ]
    }
   ],
   "source": [
    "df.info()"
   ]
  },
  {
   "cell_type": "markdown",
   "metadata": {},
   "source": [
    "## EDA on newly created DF"
   ]
  },
  {
   "cell_type": "code",
   "execution_count": 30,
   "metadata": {},
   "outputs": [
    {
     "data": {
      "text/html": [
       "<div>\n",
       "<style scoped>\n",
       "    .dataframe tbody tr th:only-of-type {\n",
       "        vertical-align: middle;\n",
       "    }\n",
       "\n",
       "    .dataframe tbody tr th {\n",
       "        vertical-align: top;\n",
       "    }\n",
       "\n",
       "    .dataframe thead th {\n",
       "        text-align: right;\n",
       "    }\n",
       "</style>\n",
       "<table border=\"1\" class=\"dataframe\">\n",
       "  <thead>\n",
       "    <tr style=\"text-align: right;\">\n",
       "      <th></th>\n",
       "      <th>Duration_Seconds</th>\n",
       "      <th>Views</th>\n",
       "      <th>Likes</th>\n",
       "      <th>Comment_count</th>\n",
       "    </tr>\n",
       "  </thead>\n",
       "  <tbody>\n",
       "    <tr>\n",
       "      <th>count</th>\n",
       "      <td>1748.000000</td>\n",
       "      <td>1.748000e+03</td>\n",
       "      <td>1.748000e+03</td>\n",
       "      <td>1748.000000</td>\n",
       "    </tr>\n",
       "    <tr>\n",
       "      <th>mean</th>\n",
       "      <td>2599.548055</td>\n",
       "      <td>8.721092e+04</td>\n",
       "      <td>1.368007e+03</td>\n",
       "      <td>62.860984</td>\n",
       "    </tr>\n",
       "    <tr>\n",
       "      <th>std</th>\n",
       "      <td>6236.326747</td>\n",
       "      <td>1.878898e+06</td>\n",
       "      <td>3.110822e+04</td>\n",
       "      <td>1338.229345</td>\n",
       "    </tr>\n",
       "    <tr>\n",
       "      <th>min</th>\n",
       "      <td>11.000000</td>\n",
       "      <td>2.300000e+01</td>\n",
       "      <td>0.000000e+00</td>\n",
       "      <td>0.000000</td>\n",
       "    </tr>\n",
       "    <tr>\n",
       "      <th>25%</th>\n",
       "      <td>257.000000</td>\n",
       "      <td>1.037750e+03</td>\n",
       "      <td>1.200000e+01</td>\n",
       "      <td>1.000000</td>\n",
       "    </tr>\n",
       "    <tr>\n",
       "      <th>50%</th>\n",
       "      <td>415.000000</td>\n",
       "      <td>3.319500e+03</td>\n",
       "      <td>5.300000e+01</td>\n",
       "      <td>3.000000</td>\n",
       "    </tr>\n",
       "    <tr>\n",
       "      <th>75%</th>\n",
       "      <td>1059.250000</td>\n",
       "      <td>7.780000e+03</td>\n",
       "      <td>1.580000e+02</td>\n",
       "      <td>12.000000</td>\n",
       "    </tr>\n",
       "    <tr>\n",
       "      <th>max</th>\n",
       "      <td>28486.000000</td>\n",
       "      <td>7.355598e+07</td>\n",
       "      <td>1.057718e+06</td>\n",
       "      <td>44105.000000</td>\n",
       "    </tr>\n",
       "  </tbody>\n",
       "</table>\n",
       "</div>"
      ],
      "text/plain": [
       "       Duration_Seconds         Views         Likes  Comment_count\n",
       "count       1748.000000  1.748000e+03  1.748000e+03    1748.000000\n",
       "mean        2599.548055  8.721092e+04  1.368007e+03      62.860984\n",
       "std         6236.326747  1.878898e+06  3.110822e+04    1338.229345\n",
       "min           11.000000  2.300000e+01  0.000000e+00       0.000000\n",
       "25%          257.000000  1.037750e+03  1.200000e+01       1.000000\n",
       "50%          415.000000  3.319500e+03  5.300000e+01       3.000000\n",
       "75%         1059.250000  7.780000e+03  1.580000e+02      12.000000\n",
       "max        28486.000000  7.355598e+07  1.057718e+06   44105.000000"
      ]
     },
     "execution_count": 30,
     "metadata": {},
     "output_type": "execute_result"
    }
   ],
   "source": [
    "df.describe()"
   ]
  },
  {
   "cell_type": "markdown",
   "metadata": {},
   "source": [
    "### Checking For Duplicates"
   ]
  },
  {
   "cell_type": "code",
   "execution_count": 31,
   "metadata": {},
   "outputs": [
    {
     "name": "stdout",
     "output_type": "stream",
     "text": [
      "No. of duplicated entries:  38\n"
     ]
    }
   ],
   "source": [
    "if len(df[df.duplicated(subset =['Video_Name'])]) > 0:\n",
    "    print(\"No. of duplicated entries: \", len(df[df.duplicated(subset=['Video_Name'])]))"
   ]
  },
  {
   "cell_type": "code",
   "execution_count": 32,
   "metadata": {},
   "outputs": [
    {
     "data": {
      "text/html": [
       "<div>\n",
       "<style scoped>\n",
       "    .dataframe tbody tr th:only-of-type {\n",
       "        vertical-align: middle;\n",
       "    }\n",
       "\n",
       "    .dataframe tbody tr th {\n",
       "        vertical-align: top;\n",
       "    }\n",
       "\n",
       "    .dataframe thead th {\n",
       "        text-align: right;\n",
       "    }\n",
       "</style>\n",
       "<table border=\"1\" class=\"dataframe\">\n",
       "  <thead>\n",
       "    <tr style=\"text-align: right;\">\n",
       "      <th></th>\n",
       "      <th>Published_Date</th>\n",
       "      <th>Published_Time</th>\n",
       "      <th>Video_Name</th>\n",
       "      <th>Duration_Seconds</th>\n",
       "      <th>Views</th>\n",
       "      <th>Likes</th>\n",
       "      <th>Comment_count</th>\n",
       "    </tr>\n",
       "  </thead>\n",
       "  <tbody>\n",
       "    <tr>\n",
       "      <th>372</th>\n",
       "      <td>2021-11-22</td>\n",
       "      <td>00:27:48</td>\n",
       "      <td>Worlds 2022 Cities Announcement</td>\n",
       "      <td>42.0</td>\n",
       "      <td>5247</td>\n",
       "      <td>226</td>\n",
       "      <td>13</td>\n",
       "    </tr>\n",
       "    <tr>\n",
       "      <th>499</th>\n",
       "      <td>2021-08-14</td>\n",
       "      <td>16:00:05</td>\n",
       "      <td>[LCK MIC CHECK] Ep9. The Brawl for the Last Ti...</td>\n",
       "      <td>314.0</td>\n",
       "      <td>3517</td>\n",
       "      <td>80</td>\n",
       "      <td>6</td>\n",
       "    </tr>\n",
       "    <tr>\n",
       "      <th>500</th>\n",
       "      <td>2021-08-07</td>\n",
       "      <td>16:00:28</td>\n",
       "      <td>[LCK MIC CHECK] Ep.8 A Series of Unexpected Ev...</td>\n",
       "      <td>304.0</td>\n",
       "      <td>4368</td>\n",
       "      <td>89</td>\n",
       "      <td>4</td>\n",
       "    </tr>\n",
       "    <tr>\n",
       "      <th>501</th>\n",
       "      <td>2021-07-31</td>\n",
       "      <td>16:00:33</td>\n",
       "      <td>[LCK MIC CHECK] Ep.7 The Beginning of Trundle'...</td>\n",
       "      <td>291.0</td>\n",
       "      <td>7051</td>\n",
       "      <td>161</td>\n",
       "      <td>12</td>\n",
       "    </tr>\n",
       "    <tr>\n",
       "      <th>502</th>\n",
       "      <td>2021-07-24</td>\n",
       "      <td>15:00:29</td>\n",
       "      <td>[LCK MIC Check] Ep6. The DK vs NS Story, Frien...</td>\n",
       "      <td>301.0</td>\n",
       "      <td>2627</td>\n",
       "      <td>56</td>\n",
       "      <td>2</td>\n",
       "    </tr>\n",
       "    <tr>\n",
       "      <th>503</th>\n",
       "      <td>2021-07-18</td>\n",
       "      <td>17:00:16</td>\n",
       "      <td>[LCK MIC CHECK] Ep5. CHOOOVY's Penta and DRX's...</td>\n",
       "      <td>294.0</td>\n",
       "      <td>6896</td>\n",
       "      <td>137</td>\n",
       "      <td>9</td>\n",
       "    </tr>\n",
       "    <tr>\n",
       "      <th>504</th>\n",
       "      <td>2021-07-10</td>\n",
       "      <td>15:30:04</td>\n",
       "      <td>[LCK MIC CHECK] Ep.4 The Romantic Movement of ...</td>\n",
       "      <td>304.0</td>\n",
       "      <td>3935</td>\n",
       "      <td>76</td>\n",
       "      <td>2</td>\n",
       "    </tr>\n",
       "    <tr>\n",
       "      <th>506</th>\n",
       "      <td>2021-07-03</td>\n",
       "      <td>17:00:17</td>\n",
       "      <td>[LCK MIC CHECK] Ep. 3 A Support's Dignity! And...</td>\n",
       "      <td>286.0</td>\n",
       "      <td>2427</td>\n",
       "      <td>51</td>\n",
       "      <td>4</td>\n",
       "    </tr>\n",
       "    <tr>\n",
       "      <th>507</th>\n",
       "      <td>2021-06-27</td>\n",
       "      <td>04:00:04</td>\n",
       "      <td>[LCK MIC CHECK] Ep.2 A Chaotic Week 2! A New M...</td>\n",
       "      <td>275.0</td>\n",
       "      <td>3373</td>\n",
       "      <td>90</td>\n",
       "      <td>3</td>\n",
       "    </tr>\n",
       "    <tr>\n",
       "      <th>508</th>\n",
       "      <td>2021-06-19</td>\n",
       "      <td>14:45:02</td>\n",
       "      <td>[LCK MIC Check] Ep.1 Finally back at LoL Park!...</td>\n",
       "      <td>292.0</td>\n",
       "      <td>6712</td>\n",
       "      <td>155</td>\n",
       "      <td>2</td>\n",
       "    </tr>\n",
       "    <tr>\n",
       "      <th>664</th>\n",
       "      <td>2020-08-28</td>\n",
       "      <td>09:08:57</td>\n",
       "      <td>[4K] LCK Weekly Mad Movie | Highlight Montage ...</td>\n",
       "      <td>371.0</td>\n",
       "      <td>4029</td>\n",
       "      <td>79</td>\n",
       "      <td>2</td>\n",
       "    </tr>\n",
       "    <tr>\n",
       "      <th>665</th>\n",
       "      <td>2020-08-20</td>\n",
       "      <td>10:14:24</td>\n",
       "      <td>[4K] LCK Weekly Mad Movie | Highlight Montage ...</td>\n",
       "      <td>381.0</td>\n",
       "      <td>3398</td>\n",
       "      <td>64</td>\n",
       "      <td>3</td>\n",
       "    </tr>\n",
       "    <tr>\n",
       "      <th>666</th>\n",
       "      <td>2020-08-13</td>\n",
       "      <td>10:15:03</td>\n",
       "      <td>[4K] LCK Weekly Mad Movie | Highlight Montage ...</td>\n",
       "      <td>350.0</td>\n",
       "      <td>3951</td>\n",
       "      <td>85</td>\n",
       "      <td>5</td>\n",
       "    </tr>\n",
       "    <tr>\n",
       "      <th>667</th>\n",
       "      <td>2020-08-06</td>\n",
       "      <td>12:00:48</td>\n",
       "      <td>[4K] LCK Weekly Mad Movie | Highlight Montage ...</td>\n",
       "      <td>355.0</td>\n",
       "      <td>5351</td>\n",
       "      <td>103</td>\n",
       "      <td>6</td>\n",
       "    </tr>\n",
       "    <tr>\n",
       "      <th>668</th>\n",
       "      <td>2020-07-30</td>\n",
       "      <td>11:26:41</td>\n",
       "      <td>[4K] LCK Weekly Mad Movie | Highlight Montage ...</td>\n",
       "      <td>356.0</td>\n",
       "      <td>7305</td>\n",
       "      <td>141</td>\n",
       "      <td>17</td>\n",
       "    </tr>\n",
       "    <tr>\n",
       "      <th>669</th>\n",
       "      <td>2020-07-24</td>\n",
       "      <td>08:15:32</td>\n",
       "      <td>[4K] LCK Weekly Mad Movie | Highlight Montage ...</td>\n",
       "      <td>345.0</td>\n",
       "      <td>4337</td>\n",
       "      <td>79</td>\n",
       "      <td>3</td>\n",
       "    </tr>\n",
       "    <tr>\n",
       "      <th>670</th>\n",
       "      <td>2020-07-15</td>\n",
       "      <td>11:05:37</td>\n",
       "      <td>[4K] LCK Weekly Mad Movie | Highlight Montage ...</td>\n",
       "      <td>317.0</td>\n",
       "      <td>5919</td>\n",
       "      <td>104</td>\n",
       "      <td>4</td>\n",
       "    </tr>\n",
       "    <tr>\n",
       "      <th>671</th>\n",
       "      <td>2020-07-08</td>\n",
       "      <td>09:00:23</td>\n",
       "      <td>[4K] LCK Weekly Mad Movie | Highlight Montage ...</td>\n",
       "      <td>290.0</td>\n",
       "      <td>68273</td>\n",
       "      <td>607</td>\n",
       "      <td>24</td>\n",
       "    </tr>\n",
       "    <tr>\n",
       "      <th>672</th>\n",
       "      <td>2020-07-01</td>\n",
       "      <td>11:12:04</td>\n",
       "      <td>[4K] LCK Weekly Mad Movie | Highlight Montage ...</td>\n",
       "      <td>315.0</td>\n",
       "      <td>9483</td>\n",
       "      <td>184</td>\n",
       "      <td>11</td>\n",
       "    </tr>\n",
       "    <tr>\n",
       "      <th>849</th>\n",
       "      <td>2021-03-27</td>\n",
       "      <td>09:02:31</td>\n",
       "      <td>[LCK MIC CHECK] ep.9 NS's \"NUTS\" Teamfighting!...</td>\n",
       "      <td>273.0</td>\n",
       "      <td>4259</td>\n",
       "      <td>75</td>\n",
       "      <td>4</td>\n",
       "    </tr>\n",
       "    <tr>\n",
       "      <th>850</th>\n",
       "      <td>2021-03-20</td>\n",
       "      <td>09:27:20</td>\n",
       "      <td>[LCK MIC CHECK] ep.8 Veteran’s Dignity! GEN &amp; ...</td>\n",
       "      <td>261.0</td>\n",
       "      <td>6364</td>\n",
       "      <td>172</td>\n",
       "      <td>11</td>\n",
       "    </tr>\n",
       "    <tr>\n",
       "      <th>851</th>\n",
       "      <td>2021-03-13</td>\n",
       "      <td>09:32:22</td>\n",
       "      <td>[LCK MIC CHECK] ep.7 Rise of the East Side Tea...</td>\n",
       "      <td>289.0</td>\n",
       "      <td>3422</td>\n",
       "      <td>79</td>\n",
       "      <td>3</td>\n",
       "    </tr>\n",
       "    <tr>\n",
       "      <th>852</th>\n",
       "      <td>2021-03-06</td>\n",
       "      <td>11:03:44</td>\n",
       "      <td>[LCK Mic CHECK] ep.6 Keria the Boomer? LCK's V...</td>\n",
       "      <td>260.0</td>\n",
       "      <td>5180</td>\n",
       "      <td>94</td>\n",
       "      <td>2</td>\n",
       "    </tr>\n",
       "    <tr>\n",
       "      <th>853</th>\n",
       "      <td>2021-02-27</td>\n",
       "      <td>09:19:00</td>\n",
       "      <td>[LCK MIC CHECK] ep.5 T1, KT, BRO and GEN Fresh...</td>\n",
       "      <td>254.0</td>\n",
       "      <td>3682</td>\n",
       "      <td>80</td>\n",
       "      <td>4</td>\n",
       "    </tr>\n",
       "    <tr>\n",
       "      <th>856</th>\n",
       "      <td>2021-02-19</td>\n",
       "      <td>08:49:41</td>\n",
       "      <td>[LCK MIC CHECK] ep.4 Bipolar Penta Teamwork, F...</td>\n",
       "      <td>237.0</td>\n",
       "      <td>2592</td>\n",
       "      <td>57</td>\n",
       "      <td>2</td>\n",
       "    </tr>\n",
       "    <tr>\n",
       "      <th>857</th>\n",
       "      <td>2021-02-06</td>\n",
       "      <td>09:05:52</td>\n",
       "      <td>[LCK MIC CHECK] ep.3 Cho-ne! T1 Cuzz/Teddy Com...</td>\n",
       "      <td>242.0</td>\n",
       "      <td>4552</td>\n",
       "      <td>109</td>\n",
       "      <td>3</td>\n",
       "    </tr>\n",
       "    <tr>\n",
       "      <th>858</th>\n",
       "      <td>2021-01-30</td>\n",
       "      <td>08:54:16</td>\n",
       "      <td>[LCK MIC CHECK] ep.2 The Entrance of Udyr and ...</td>\n",
       "      <td>224.0</td>\n",
       "      <td>3497</td>\n",
       "      <td>93</td>\n",
       "      <td>3</td>\n",
       "    </tr>\n",
       "    <tr>\n",
       "      <th>860</th>\n",
       "      <td>2021-01-23</td>\n",
       "      <td>08:50:56</td>\n",
       "      <td>[LCK MIC CHECK] ep.1 DK vs T1 Behind the Legen...</td>\n",
       "      <td>247.0</td>\n",
       "      <td>12103</td>\n",
       "      <td>232</td>\n",
       "      <td>19</td>\n",
       "    </tr>\n",
       "    <tr>\n",
       "      <th>1099</th>\n",
       "      <td>2020-05-28</td>\n",
       "      <td>10:39:10</td>\n",
       "      <td>T1 vs DWG | Group Stage Match 3 H/L 05.28 | 20...</td>\n",
       "      <td>417.0</td>\n",
       "      <td>9549</td>\n",
       "      <td>94</td>\n",
       "      <td>7</td>\n",
       "    </tr>\n",
       "    <tr>\n",
       "      <th>1102</th>\n",
       "      <td>2020-05-28</td>\n",
       "      <td>12:44:22</td>\n",
       "      <td>DWG vs FPX | Group Stage Match 5 H/L 05.28 | 2...</td>\n",
       "      <td>321.0</td>\n",
       "      <td>5976</td>\n",
       "      <td>54</td>\n",
       "      <td>2</td>\n",
       "    </tr>\n",
       "    <tr>\n",
       "      <th>1106</th>\n",
       "      <td>2020-05-29</td>\n",
       "      <td>09:20:41</td>\n",
       "      <td>IG vs DRX | Group Stage Match 2 H/L 05.29 | 20...</td>\n",
       "      <td>286.0</td>\n",
       "      <td>3616</td>\n",
       "      <td>35</td>\n",
       "      <td>8</td>\n",
       "    </tr>\n",
       "    <tr>\n",
       "      <th>1128</th>\n",
       "      <td>2020-04-28</td>\n",
       "      <td>13:52:52</td>\n",
       "      <td>GRF vs SRB | Promotion Match2 H/L 04.28 | 2020...</td>\n",
       "      <td>835.0</td>\n",
       "      <td>9744</td>\n",
       "      <td>74</td>\n",
       "      <td>14</td>\n",
       "    </tr>\n",
       "    <tr>\n",
       "      <th>1138</th>\n",
       "      <td>2020-04-29</td>\n",
       "      <td>09:07:56</td>\n",
       "      <td>DYN  vs SRB | Promotion Winners Match Game1 H/...</td>\n",
       "      <td>298.0</td>\n",
       "      <td>2040</td>\n",
       "      <td>33</td>\n",
       "      <td>2</td>\n",
       "    </tr>\n",
       "    <tr>\n",
       "      <th>1553</th>\n",
       "      <td>2019-06-09</td>\n",
       "      <td>09:17:27</td>\n",
       "      <td>SB vs KZ | Match9 Game1 H/L | 2019 LCK Summer</td>\n",
       "      <td>282.0</td>\n",
       "      <td>163</td>\n",
       "      <td>2</td>\n",
       "      <td>0</td>\n",
       "    </tr>\n",
       "    <tr>\n",
       "      <th>1685</th>\n",
       "      <td>2019-01-23</td>\n",
       "      <td>13:23:34</td>\n",
       "      <td>Interview with Viper + Chovy [2019 LCK SPRING]...</td>\n",
       "      <td>439.0</td>\n",
       "      <td>355</td>\n",
       "      <td>3</td>\n",
       "      <td>0</td>\n",
       "    </tr>\n",
       "    <tr>\n",
       "      <th>1691</th>\n",
       "      <td>2019-01-19</td>\n",
       "      <td>10:26:36</td>\n",
       "      <td>Interview with ShowMaker+Nuguri [2019 LCK SPRI...</td>\n",
       "      <td>327.0</td>\n",
       "      <td>111</td>\n",
       "      <td>1</td>\n",
       "      <td>0</td>\n",
       "    </tr>\n",
       "  </tbody>\n",
       "</table>\n",
       "</div>"
      ],
      "text/plain": [
       "     Published_Date Published_Time  \\\n",
       "372      2021-11-22       00:27:48   \n",
       "499      2021-08-14       16:00:05   \n",
       "500      2021-08-07       16:00:28   \n",
       "501      2021-07-31       16:00:33   \n",
       "502      2021-07-24       15:00:29   \n",
       "503      2021-07-18       17:00:16   \n",
       "504      2021-07-10       15:30:04   \n",
       "506      2021-07-03       17:00:17   \n",
       "507      2021-06-27       04:00:04   \n",
       "508      2021-06-19       14:45:02   \n",
       "664      2020-08-28       09:08:57   \n",
       "665      2020-08-20       10:14:24   \n",
       "666      2020-08-13       10:15:03   \n",
       "667      2020-08-06       12:00:48   \n",
       "668      2020-07-30       11:26:41   \n",
       "669      2020-07-24       08:15:32   \n",
       "670      2020-07-15       11:05:37   \n",
       "671      2020-07-08       09:00:23   \n",
       "672      2020-07-01       11:12:04   \n",
       "849      2021-03-27       09:02:31   \n",
       "850      2021-03-20       09:27:20   \n",
       "851      2021-03-13       09:32:22   \n",
       "852      2021-03-06       11:03:44   \n",
       "853      2021-02-27       09:19:00   \n",
       "856      2021-02-19       08:49:41   \n",
       "857      2021-02-06       09:05:52   \n",
       "858      2021-01-30       08:54:16   \n",
       "860      2021-01-23       08:50:56   \n",
       "1099     2020-05-28       10:39:10   \n",
       "1102     2020-05-28       12:44:22   \n",
       "1106     2020-05-29       09:20:41   \n",
       "1128     2020-04-28       13:52:52   \n",
       "1138     2020-04-29       09:07:56   \n",
       "1553     2019-06-09       09:17:27   \n",
       "1685     2019-01-23       13:23:34   \n",
       "1691     2019-01-19       10:26:36   \n",
       "\n",
       "                                             Video_Name  Duration_Seconds  \\\n",
       "372                     Worlds 2022 Cities Announcement              42.0   \n",
       "499   [LCK MIC CHECK] Ep9. The Brawl for the Last Ti...             314.0   \n",
       "500   [LCK MIC CHECK] Ep.8 A Series of Unexpected Ev...             304.0   \n",
       "501   [LCK MIC CHECK] Ep.7 The Beginning of Trundle'...             291.0   \n",
       "502   [LCK MIC Check] Ep6. The DK vs NS Story, Frien...             301.0   \n",
       "503   [LCK MIC CHECK] Ep5. CHOOOVY's Penta and DRX's...             294.0   \n",
       "504   [LCK MIC CHECK] Ep.4 The Romantic Movement of ...             304.0   \n",
       "506   [LCK MIC CHECK] Ep. 3 A Support's Dignity! And...             286.0   \n",
       "507   [LCK MIC CHECK] Ep.2 A Chaotic Week 2! A New M...             275.0   \n",
       "508   [LCK MIC Check] Ep.1 Finally back at LoL Park!...             292.0   \n",
       "664   [4K] LCK Weekly Mad Movie | Highlight Montage ...             371.0   \n",
       "665   [4K] LCK Weekly Mad Movie | Highlight Montage ...             381.0   \n",
       "666   [4K] LCK Weekly Mad Movie | Highlight Montage ...             350.0   \n",
       "667   [4K] LCK Weekly Mad Movie | Highlight Montage ...             355.0   \n",
       "668   [4K] LCK Weekly Mad Movie | Highlight Montage ...             356.0   \n",
       "669   [4K] LCK Weekly Mad Movie | Highlight Montage ...             345.0   \n",
       "670   [4K] LCK Weekly Mad Movie | Highlight Montage ...             317.0   \n",
       "671   [4K] LCK Weekly Mad Movie | Highlight Montage ...             290.0   \n",
       "672   [4K] LCK Weekly Mad Movie | Highlight Montage ...             315.0   \n",
       "849   [LCK MIC CHECK] ep.9 NS's \"NUTS\" Teamfighting!...             273.0   \n",
       "850   [LCK MIC CHECK] ep.8 Veteran’s Dignity! GEN & ...             261.0   \n",
       "851   [LCK MIC CHECK] ep.7 Rise of the East Side Tea...             289.0   \n",
       "852   [LCK Mic CHECK] ep.6 Keria the Boomer? LCK's V...             260.0   \n",
       "853   [LCK MIC CHECK] ep.5 T1, KT, BRO and GEN Fresh...             254.0   \n",
       "856   [LCK MIC CHECK] ep.4 Bipolar Penta Teamwork, F...             237.0   \n",
       "857   [LCK MIC CHECK] ep.3 Cho-ne! T1 Cuzz/Teddy Com...             242.0   \n",
       "858   [LCK MIC CHECK] ep.2 The Entrance of Udyr and ...             224.0   \n",
       "860   [LCK MIC CHECK] ep.1 DK vs T1 Behind the Legen...             247.0   \n",
       "1099  T1 vs DWG | Group Stage Match 3 H/L 05.28 | 20...             417.0   \n",
       "1102  DWG vs FPX | Group Stage Match 5 H/L 05.28 | 2...             321.0   \n",
       "1106  IG vs DRX | Group Stage Match 2 H/L 05.29 | 20...             286.0   \n",
       "1128  GRF vs SRB | Promotion Match2 H/L 04.28 | 2020...             835.0   \n",
       "1138  DYN  vs SRB | Promotion Winners Match Game1 H/...             298.0   \n",
       "1553      SB vs KZ | Match9 Game1 H/L | 2019 LCK Summer             282.0   \n",
       "1685  Interview with Viper + Chovy [2019 LCK SPRING]...             439.0   \n",
       "1691  Interview with ShowMaker+Nuguri [2019 LCK SPRI...             327.0   \n",
       "\n",
       "      Views  Likes  Comment_count  \n",
       "372    5247    226             13  \n",
       "499    3517     80              6  \n",
       "500    4368     89              4  \n",
       "501    7051    161             12  \n",
       "502    2627     56              2  \n",
       "503    6896    137              9  \n",
       "504    3935     76              2  \n",
       "506    2427     51              4  \n",
       "507    3373     90              3  \n",
       "508    6712    155              2  \n",
       "664    4029     79              2  \n",
       "665    3398     64              3  \n",
       "666    3951     85              5  \n",
       "667    5351    103              6  \n",
       "668    7305    141             17  \n",
       "669    4337     79              3  \n",
       "670    5919    104              4  \n",
       "671   68273    607             24  \n",
       "672    9483    184             11  \n",
       "849    4259     75              4  \n",
       "850    6364    172             11  \n",
       "851    3422     79              3  \n",
       "852    5180     94              2  \n",
       "853    3682     80              4  \n",
       "856    2592     57              2  \n",
       "857    4552    109              3  \n",
       "858    3497     93              3  \n",
       "860   12103    232             19  \n",
       "1099   9549     94              7  \n",
       "1102   5976     54              2  \n",
       "1106   3616     35              8  \n",
       "1128   9744     74             14  \n",
       "1138   2040     33              2  \n",
       "1553    163      2              0  \n",
       "1685    355      3              0  \n",
       "1691    111      1              0  "
      ]
     },
     "execution_count": 32,
     "metadata": {},
     "output_type": "execute_result"
    }
   ],
   "source": [
    "# df[df.duplicated(['Video_Name', 'Published_Date'])]\n",
    "# These are not truly duplicated videos they have similar names so the .duplicated() method thinks they are duplicates"
   ]
  },
  {
   "cell_type": "markdown",
   "metadata": {},
   "source": [
    "## Removing 2 Videos from Video DF\n",
    "### - Reasoning: These 2 videos are music videos that have view counts that are multiple times higher than the average view count, thus removing these videos that are not representitive of the NORMAL types of videos on this channel"
   ]
  },
  {
   "cell_type": "code",
   "execution_count": 33,
   "metadata": {},
   "outputs": [
    {
     "data": {
      "text/html": [
       "<div>\n",
       "<style scoped>\n",
       "    .dataframe tbody tr th:only-of-type {\n",
       "        vertical-align: middle;\n",
       "    }\n",
       "\n",
       "    .dataframe tbody tr th {\n",
       "        vertical-align: top;\n",
       "    }\n",
       "\n",
       "    .dataframe thead th {\n",
       "        text-align: right;\n",
       "    }\n",
       "</style>\n",
       "<table border=\"1\" class=\"dataframe\">\n",
       "  <thead>\n",
       "    <tr style=\"text-align: right;\">\n",
       "      <th></th>\n",
       "      <th>Published_Date</th>\n",
       "      <th>Published_Time</th>\n",
       "      <th>Video_Name</th>\n",
       "      <th>Duration_Seconds</th>\n",
       "      <th>Views</th>\n",
       "      <th>Likes</th>\n",
       "      <th>Comment_count</th>\n",
       "    </tr>\n",
       "  </thead>\n",
       "  <tbody>\n",
       "    <tr>\n",
       "      <th>910</th>\n",
       "      <td>2020-09-17</td>\n",
       "      <td>15:00:09</td>\n",
       "      <td>Take Over (ft. Jeremy McKinnon (A Day To Remem...</td>\n",
       "      <td>226.0</td>\n",
       "      <td>73555981</td>\n",
       "      <td>1057718</td>\n",
       "      <td>44105</td>\n",
       "    </tr>\n",
       "    <tr>\n",
       "      <th>10</th>\n",
       "      <td>2022-09-22</td>\n",
       "      <td>14:57:10</td>\n",
       "      <td>Lil Nas X - STAR WALKIN' (League of Legends Wo...</td>\n",
       "      <td>214.0</td>\n",
       "      <td>27033348</td>\n",
       "      <td>754189</td>\n",
       "      <td>34339</td>\n",
       "    </tr>\n",
       "    <tr>\n",
       "      <th>38</th>\n",
       "      <td>2022-08-21</td>\n",
       "      <td>14:30:06</td>\n",
       "      <td>T1 vs DK | 2022 LCK Summer Split Playoffs ROUND2</td>\n",
       "      <td>20304.0</td>\n",
       "      <td>2504054</td>\n",
       "      <td>18138</td>\n",
       "      <td>131</td>\n",
       "    </tr>\n",
       "    <tr>\n",
       "      <th>37</th>\n",
       "      <td>2022-08-28</td>\n",
       "      <td>11:00:10</td>\n",
       "      <td>GEN vs T1 | 2022 LCK Summer FINALS</td>\n",
       "      <td>21611.0</td>\n",
       "      <td>2211013</td>\n",
       "      <td>15953</td>\n",
       "      <td>384</td>\n",
       "    </tr>\n",
       "    <tr>\n",
       "      <th>907</th>\n",
       "      <td>2020-10-15</td>\n",
       "      <td>08:00:02</td>\n",
       "      <td>Take Over - ford. Remix | Worlds 2020 - League...</td>\n",
       "      <td>191.0</td>\n",
       "      <td>1804109</td>\n",
       "      <td>62481</td>\n",
       "      <td>1950</td>\n",
       "    </tr>\n",
       "    <tr>\n",
       "      <th>52</th>\n",
       "      <td>2022-07-30</td>\n",
       "      <td>14:40:24</td>\n",
       "      <td>DRX vs LSB - T1 vs GEN | 2022 LCK Summer Split</td>\n",
       "      <td>22060.0</td>\n",
       "      <td>1661769</td>\n",
       "      <td>10375</td>\n",
       "      <td>81</td>\n",
       "    </tr>\n",
       "    <tr>\n",
       "      <th>42</th>\n",
       "      <td>2022-08-13</td>\n",
       "      <td>16:15:02</td>\n",
       "      <td>GEN vs KT - T1 vs DK | 2022 LCK Summer Split</td>\n",
       "      <td>23823.0</td>\n",
       "      <td>1464165</td>\n",
       "      <td>8176</td>\n",
       "      <td>41</td>\n",
       "    </tr>\n",
       "    <tr>\n",
       "      <th>39</th>\n",
       "      <td>2022-08-18</td>\n",
       "      <td>16:00:34</td>\n",
       "      <td>DK vs KT | 2022 LCK Summer Split Playoffs ROUND1</td>\n",
       "      <td>25506.0</td>\n",
       "      <td>1337042</td>\n",
       "      <td>7160</td>\n",
       "      <td>68</td>\n",
       "    </tr>\n",
       "    <tr>\n",
       "      <th>68</th>\n",
       "      <td>2022-07-08</td>\n",
       "      <td>15:30:01</td>\n",
       "      <td>GEN vs T1 - KDF vs KT | 2022 LCK Summer Split</td>\n",
       "      <td>24212.0</td>\n",
       "      <td>1275747</td>\n",
       "      <td>10220</td>\n",
       "      <td>77</td>\n",
       "    </tr>\n",
       "    <tr>\n",
       "      <th>57</th>\n",
       "      <td>2022-07-23</td>\n",
       "      <td>17:00:14</td>\n",
       "      <td>BRO vs T1 - KT vs NS | 2022 LCK Summer Split</td>\n",
       "      <td>25509.0</td>\n",
       "      <td>1111044</td>\n",
       "      <td>7365</td>\n",
       "      <td>21</td>\n",
       "    </tr>\n",
       "  </tbody>\n",
       "</table>\n",
       "</div>"
      ],
      "text/plain": [
       "    Published_Date Published_Time  \\\n",
       "910     2020-09-17       15:00:09   \n",
       "10      2022-09-22       14:57:10   \n",
       "38      2022-08-21       14:30:06   \n",
       "37      2022-08-28       11:00:10   \n",
       "907     2020-10-15       08:00:02   \n",
       "52      2022-07-30       14:40:24   \n",
       "42      2022-08-13       16:15:02   \n",
       "39      2022-08-18       16:00:34   \n",
       "68      2022-07-08       15:30:01   \n",
       "57      2022-07-23       17:00:14   \n",
       "\n",
       "                                            Video_Name  Duration_Seconds  \\\n",
       "910  Take Over (ft. Jeremy McKinnon (A Day To Remem...             226.0   \n",
       "10   Lil Nas X - STAR WALKIN' (League of Legends Wo...             214.0   \n",
       "38    T1 vs DK | 2022 LCK Summer Split Playoffs ROUND2           20304.0   \n",
       "37                  GEN vs T1 | 2022 LCK Summer FINALS           21611.0   \n",
       "907  Take Over - ford. Remix | Worlds 2020 - League...             191.0   \n",
       "52      DRX vs LSB - T1 vs GEN | 2022 LCK Summer Split           22060.0   \n",
       "42        GEN vs KT - T1 vs DK | 2022 LCK Summer Split           23823.0   \n",
       "39    DK vs KT | 2022 LCK Summer Split Playoffs ROUND1           25506.0   \n",
       "68       GEN vs T1 - KDF vs KT | 2022 LCK Summer Split           24212.0   \n",
       "57        BRO vs T1 - KT vs NS | 2022 LCK Summer Split           25509.0   \n",
       "\n",
       "        Views    Likes  Comment_count  \n",
       "910  73555981  1057718          44105  \n",
       "10   27033348   754189          34339  \n",
       "38    2504054    18138            131  \n",
       "37    2211013    15953            384  \n",
       "907   1804109    62481           1950  \n",
       "52    1661769    10375             81  \n",
       "42    1464165     8176             41  \n",
       "39    1337042     7160             68  \n",
       "68    1275747    10220             77  \n",
       "57    1111044     7365             21  "
      ]
     },
     "execution_count": 33,
     "metadata": {},
     "output_type": "execute_result"
    }
   ],
   "source": [
    "# Videos with the LARGEST VIEW count\n",
    "indicies = df.Views.nlargest(10).index\n",
    "df.loc[indicies, ]"
   ]
  },
  {
   "cell_type": "code",
   "execution_count": 52,
   "metadata": {},
   "outputs": [
    {
     "name": "stdout",
     "output_type": "stream",
     "text": [
      "New df 1746, Old df 1748\n"
     ]
    }
   ],
   "source": [
    "data_outliers_removed = df.drop([910,10], axis=0).reset_index()\n",
    "print(f'New df {len(data_outliers_removed)}, Old df {len(df)}')"
   ]
  },
  {
   "cell_type": "code",
   "execution_count": 70,
   "metadata": {},
   "outputs": [
    {
     "name": "stdout",
     "output_type": "stream",
     "text": [
      "\n",
      "Average view count per video RAW DF:  87210.92 \n",
      "\n",
      "Average View Count Per Video with Videos Removed 29699.52\n",
      "\n"
     ]
    }
   ],
   "source": [
    "print(f\"\"\"\n",
    "Average view count per video RAW DF:  {df.Views.mean():.2f} \\n\n",
    "Average View Count Per Video with Videos Removed {data_outliers_removed.Views.mean():.2f}\n",
    "\"\"\")"
   ]
  },
  {
   "cell_type": "code",
   "execution_count": 54,
   "metadata": {},
   "outputs": [
    {
     "data": {
      "text/html": [
       "<div>\n",
       "<style scoped>\n",
       "    .dataframe tbody tr th:only-of-type {\n",
       "        vertical-align: middle;\n",
       "    }\n",
       "\n",
       "    .dataframe tbody tr th {\n",
       "        vertical-align: top;\n",
       "    }\n",
       "\n",
       "    .dataframe thead th {\n",
       "        text-align: right;\n",
       "    }\n",
       "</style>\n",
       "<table border=\"1\" class=\"dataframe\">\n",
       "  <thead>\n",
       "    <tr style=\"text-align: right;\">\n",
       "      <th></th>\n",
       "      <th>index</th>\n",
       "      <th>Published_Date</th>\n",
       "      <th>Published_Time</th>\n",
       "      <th>Video_Name</th>\n",
       "      <th>Duration_Seconds</th>\n",
       "      <th>Views</th>\n",
       "      <th>Likes</th>\n",
       "      <th>Comment_count</th>\n",
       "    </tr>\n",
       "  </thead>\n",
       "  <tbody>\n",
       "    <tr>\n",
       "      <th>37</th>\n",
       "      <td>38</td>\n",
       "      <td>2022-08-21</td>\n",
       "      <td>14:30:06</td>\n",
       "      <td>T1 vs DK | 2022 LCK Summer Split Playoffs ROUND2</td>\n",
       "      <td>20304.0</td>\n",
       "      <td>2504054</td>\n",
       "      <td>18138</td>\n",
       "      <td>131</td>\n",
       "    </tr>\n",
       "    <tr>\n",
       "      <th>36</th>\n",
       "      <td>37</td>\n",
       "      <td>2022-08-28</td>\n",
       "      <td>11:00:10</td>\n",
       "      <td>GEN vs T1 | 2022 LCK Summer FINALS</td>\n",
       "      <td>21611.0</td>\n",
       "      <td>2211013</td>\n",
       "      <td>15953</td>\n",
       "      <td>384</td>\n",
       "    </tr>\n",
       "    <tr>\n",
       "      <th>906</th>\n",
       "      <td>907</td>\n",
       "      <td>2020-10-15</td>\n",
       "      <td>08:00:02</td>\n",
       "      <td>Take Over - ford. Remix | Worlds 2020 - League...</td>\n",
       "      <td>191.0</td>\n",
       "      <td>1804109</td>\n",
       "      <td>62481</td>\n",
       "      <td>1950</td>\n",
       "    </tr>\n",
       "    <tr>\n",
       "      <th>51</th>\n",
       "      <td>52</td>\n",
       "      <td>2022-07-30</td>\n",
       "      <td>14:40:24</td>\n",
       "      <td>DRX vs LSB - T1 vs GEN | 2022 LCK Summer Split</td>\n",
       "      <td>22060.0</td>\n",
       "      <td>1661769</td>\n",
       "      <td>10375</td>\n",
       "      <td>81</td>\n",
       "    </tr>\n",
       "    <tr>\n",
       "      <th>41</th>\n",
       "      <td>42</td>\n",
       "      <td>2022-08-13</td>\n",
       "      <td>16:15:02</td>\n",
       "      <td>GEN vs KT - T1 vs DK | 2022 LCK Summer Split</td>\n",
       "      <td>23823.0</td>\n",
       "      <td>1464165</td>\n",
       "      <td>8176</td>\n",
       "      <td>41</td>\n",
       "    </tr>\n",
       "    <tr>\n",
       "      <th>38</th>\n",
       "      <td>39</td>\n",
       "      <td>2022-08-18</td>\n",
       "      <td>16:00:34</td>\n",
       "      <td>DK vs KT | 2022 LCK Summer Split Playoffs ROUND1</td>\n",
       "      <td>25506.0</td>\n",
       "      <td>1337042</td>\n",
       "      <td>7160</td>\n",
       "      <td>68</td>\n",
       "    </tr>\n",
       "    <tr>\n",
       "      <th>67</th>\n",
       "      <td>68</td>\n",
       "      <td>2022-07-08</td>\n",
       "      <td>15:30:01</td>\n",
       "      <td>GEN vs T1 - KDF vs KT | 2022 LCK Summer Split</td>\n",
       "      <td>24212.0</td>\n",
       "      <td>1275747</td>\n",
       "      <td>10220</td>\n",
       "      <td>77</td>\n",
       "    </tr>\n",
       "    <tr>\n",
       "      <th>56</th>\n",
       "      <td>57</td>\n",
       "      <td>2022-07-23</td>\n",
       "      <td>17:00:14</td>\n",
       "      <td>BRO vs T1 - KT vs NS | 2022 LCK Summer Split</td>\n",
       "      <td>25509.0</td>\n",
       "      <td>1111044</td>\n",
       "      <td>7365</td>\n",
       "      <td>21</td>\n",
       "    </tr>\n",
       "    <tr>\n",
       "      <th>65</th>\n",
       "      <td>66</td>\n",
       "      <td>2022-07-10</td>\n",
       "      <td>15:20:41</td>\n",
       "      <td>DRX vs GEN - T1 vs BRO | 2022 LCK Summer Split</td>\n",
       "      <td>18924.0</td>\n",
       "      <td>1029746</td>\n",
       "      <td>6716</td>\n",
       "      <td>67</td>\n",
       "    </tr>\n",
       "    <tr>\n",
       "      <th>45</th>\n",
       "      <td>46</td>\n",
       "      <td>2022-08-07</td>\n",
       "      <td>14:15:00</td>\n",
       "      <td>NS vs T1 - KDF vs DRX | 2022 LCK Summer Split</td>\n",
       "      <td>21834.0</td>\n",
       "      <td>1016480</td>\n",
       "      <td>6199</td>\n",
       "      <td>47</td>\n",
       "    </tr>\n",
       "  </tbody>\n",
       "</table>\n",
       "</div>"
      ],
      "text/plain": [
       "     index Published_Date Published_Time  \\\n",
       "37      38     2022-08-21       14:30:06   \n",
       "36      37     2022-08-28       11:00:10   \n",
       "906    907     2020-10-15       08:00:02   \n",
       "51      52     2022-07-30       14:40:24   \n",
       "41      42     2022-08-13       16:15:02   \n",
       "38      39     2022-08-18       16:00:34   \n",
       "67      68     2022-07-08       15:30:01   \n",
       "56      57     2022-07-23       17:00:14   \n",
       "65      66     2022-07-10       15:20:41   \n",
       "45      46     2022-08-07       14:15:00   \n",
       "\n",
       "                                            Video_Name  Duration_Seconds  \\\n",
       "37    T1 vs DK | 2022 LCK Summer Split Playoffs ROUND2           20304.0   \n",
       "36                  GEN vs T1 | 2022 LCK Summer FINALS           21611.0   \n",
       "906  Take Over - ford. Remix | Worlds 2020 - League...             191.0   \n",
       "51      DRX vs LSB - T1 vs GEN | 2022 LCK Summer Split           22060.0   \n",
       "41        GEN vs KT - T1 vs DK | 2022 LCK Summer Split           23823.0   \n",
       "38    DK vs KT | 2022 LCK Summer Split Playoffs ROUND1           25506.0   \n",
       "67       GEN vs T1 - KDF vs KT | 2022 LCK Summer Split           24212.0   \n",
       "56        BRO vs T1 - KT vs NS | 2022 LCK Summer Split           25509.0   \n",
       "65      DRX vs GEN - T1 vs BRO | 2022 LCK Summer Split           18924.0   \n",
       "45       NS vs T1 - KDF vs DRX | 2022 LCK Summer Split           21834.0   \n",
       "\n",
       "       Views  Likes  Comment_count  \n",
       "37   2504054  18138            131  \n",
       "36   2211013  15953            384  \n",
       "906  1804109  62481           1950  \n",
       "51   1661769  10375             81  \n",
       "41   1464165   8176             41  \n",
       "38   1337042   7160             68  \n",
       "67   1275747  10220             77  \n",
       "56   1111044   7365             21  \n",
       "65   1029746   6716             67  \n",
       "45   1016480   6199             47  "
      ]
     },
     "execution_count": 54,
     "metadata": {},
     "output_type": "execute_result"
    }
   ],
   "source": [
    "data_outliers_removed.iloc[data_outliers_removed.Views.nlargest(10).index , ]"
   ]
  },
  {
   "cell_type": "markdown",
   "metadata": {},
   "source": [
    "## Visualizations"
   ]
  },
  {
   "cell_type": "markdown",
   "metadata": {},
   "source": [
    "### Barplot/ Freq plot of View counts"
   ]
  },
  {
   "cell_type": "code",
   "execution_count": 57,
   "metadata": {},
   "outputs": [
    {
     "data": {
      "image/png": "[encoded data removed]",
      "text/plain": [
       "<Figure size 2160x720 with 1 Axes>"
      ]
     },
     "metadata": {},
     "output_type": "display_data"
    }
   ],
   "source": [
    "plt.figure(figsize = (30,10))\n",
    "plt.hist(data_outliers_removed['Views'], bins=30)\n",
    "plt.xlabel('Views')\n",
    "plt.ylabel('Freq');\n",
    "\n",
    "# Even after removing the outlier records that were music videos it is clear that the view count is skewed right with most videos falling well under 100k views (right tail)"
   ]
  },
  {
   "cell_type": "markdown",
   "metadata": {},
   "source": [
    "### Measures of Central Tendency for Views"
   ]
  },
  {
   "cell_type": "code",
   "execution_count": 59,
   "metadata": {},
   "outputs": [
    {
     "name": "stdout",
     "output_type": "stream",
     "text": [
      "Median View count 3318.5\n",
      "Mean View count 29699.51775486827\n",
      "Mode View count 0      77\n",
      "1    1012\n",
      "Name: Views, dtype: int32\n"
     ]
    }
   ],
   "source": [
    "print(f'Median View count {data_outliers_removed.Views.median()}')\n",
    "print(f'Mean View count {data_outliers_removed.Views.mean()}')\n",
    "print(f'Mode View count {data_outliers_removed.Views.mode()}')"
   ]
  },
  {
   "cell_type": "markdown",
   "metadata": {},
   "source": [
    "### Views per day"
   ]
  },
  {
   "cell_type": "code",
   "execution_count": 60,
   "metadata": {},
   "outputs": [
    {
     "data": {
      "image/png": "[encoded data removed]",
      "text/plain": [
       "<Figure size 2160x720 with 1 Axes>"
      ]
     },
     "metadata": {},
     "output_type": "display_data"
    }
   ],
   "source": [
    "views_per_day = data_outliers_removed.loc[:, ['Published_Date', 'Views']].groupby(['Published_Date']).mean()\n",
    "plt.figure(figsize=(30,10))\n",
    "plt.plot(views_per_day.index.values, views_per_day.Views)\n",
    "plt.xlabel('Date')\n",
    "plt.ylabel('Views (Increments of 500k');\n",
    "# plt.plot(views_per_day.Published_Date, views_per_day.Views)"
   ]
  },
  {
   "cell_type": "markdown",
   "metadata": {},
   "source": [
    "### Corr plot"
   ]
  },
  {
   "cell_type": "code",
   "execution_count": 61,
   "metadata": {},
   "outputs": [
    {
     "data": {
      "image/png": "[encoded data removed]",
      "text/plain": [
       "<Figure size 432x288 with 2 Axes>"
      ]
     },
     "metadata": {},
     "output_type": "display_data"
    }
   ],
   "source": [
    "heatmap = sns.heatmap(data_outliers_removed.corr(), vmin=-1, vmax=1, annot=True, cmap = 'BrBG')\n",
    "heatmap.set_title('Correlation Heatmap');"
   ]
  },
  {
   "cell_type": "markdown",
   "metadata": {},
   "source": [
    "### Spearman Correlation graph"
   ]
  },
  {
   "cell_type": "code",
   "execution_count": 62,
   "metadata": {},
   "outputs": [
    {
     "name": "stdout",
     "output_type": "stream",
     "text": [
      "0.8675189897608754\n"
     ]
    },
    {
     "data": {
      "image/png": "[encoded data removed]",
      "text/plain": [
       "<Figure size 432x288 with 1 Axes>"
      ]
     },
     "metadata": {},
     "output_type": "display_data"
    }
   ],
   "source": [
    "sns.regplot(x = data_outliers_removed.Likes, y = data_outliers_removed.Comment_count);\n",
    "#using spearman here because there are no assumptions on the underlting data formation\n",
    "print(data_outliers_removed.Likes.corr(data_outliers_removed.Comment_count, method = 'spearman'))"
   ]
  },
  {
   "cell_type": "markdown",
   "metadata": {},
   "source": [
    "### Plotting Likes to views ration per video"
   ]
  },
  {
   "cell_type": "code",
   "execution_count": 66,
   "metadata": {},
   "outputs": [
    {
     "data": {
      "image/png": "[encoded data removed]",
      "text/plain": [
       "<Figure size 1080x576 with 1 Axes>"
      ]
     },
     "metadata": {},
     "output_type": "display_data"
    }
   ],
   "source": [
    "likes_ratio = df.Likes/df.Views \n",
    "plt.figure(figsize=(15,8))\n",
    "plt.hist((likes_ratio*100).sort_values(ascending = False), bins = 50)\n",
    "plt.xlabel('Like/View Ratio in %')\n",
    "plt.ylabel('Frequency');"
   ]
  },
  {
   "cell_type": "markdown",
   "metadata": {},
   "source": [
    "### Plotting Comments to views ration per video"
   ]
  },
  {
   "cell_type": "code",
   "execution_count": 65,
   "metadata": {},
   "outputs": [
    {
     "data": {
      "image/png": "[encoded data removed]",
      "text/plain": [
       "<Figure size 1080x576 with 1 Axes>"
      ]
     },
     "metadata": {},
     "output_type": "display_data"
    }
   ],
   "source": [
    "commentscount_ratio = df.Comment_count/df.Views\n",
    "plt.figure(figsize=(15,8))\n",
    "plt.hist((commentscount_ratio*100).sort_values(ascending = False), bins = 50)\n",
    "plt.xlabel('Comment/View Ratio in %')\n",
    "plt.ylabel('Frequency');"
   ]
  },
  {
   "cell_type": "code",
   "execution_count": 43,
   "metadata": {},
   "outputs": [
    {
     "name": "stdout",
     "output_type": "stream",
     "text": [
      "62.86\n",
      "1368.01\n"
     ]
    }
   ],
   "source": [
    "#avg comment count and like per video\n",
    "avg_comment = round(sum(df.Comment_count)/len(df),2)\n",
    "print(avg_comment) \n",
    "avg_like = round(sum(df.Likes)/len(df),2)\n",
    "print(avg_like) "
   ]
  }
 ],
 "metadata": {
  "kernelspec": {
   "display_name": "Python 3.9.5 64-bit",
   "language": "python",
   "name": "python3"
  },
  "language_info": {
   "codemirror_mode": {
    "name": "ipython",
    "version": 3
   },
   "file_extension": ".py",
   "mimetype": "text/x-python",
   "name": "python",
   "nbconvert_exporter": "python",
   "pygments_lexer": "ipython3",
   "version": "3.9.5"
  },
  "orig_nbformat": 4,
  "vscode": {
   "interpreter": {
    "hash": "02d954e4bd1c02440c1dec3c59f5cf00d682cb470949f476e770cf7c88f4eb60"
   }
  }
 },
 "nbformat": 4,
 "nbformat_minor": 2
}
